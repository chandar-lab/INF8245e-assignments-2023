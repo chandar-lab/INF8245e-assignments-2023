{
 "cells": [
  {
   "cell_type": "markdown",
   "metadata": {
    "id": "5GrDrzYSM41S"
   },
   "source": [
    "# Assignment 4\n",
    "\n",
    "## Instructions\n",
    "This is an individual assignment. You are not allowed to discuss the problems with other students.\n",
    "\n",
    "- Part of this assignment will be autograded by Gradescope. You can use it as immediate feedback to improve your answers. You can resubmit as many times as you want. We provide some tests which you can use to check that your code will execute properly on Gradescope. These are **not** meant to check the correctness of your answers. We encourage you to write your own tests for this.\n",
    "- All your code, analysis, graphs, explanations, etc. should be done in this same notebook.\n",
    "- Please make sure to execute all the cells before you export the notebook to a PDF and submit it to Gradescope. You will not get points for the plots if they are not generated already.\n",
    "- If you have questions regarding the assignment, you can ask for clarifications in Piazza. You should use the corresponding tag for this assignment.\n",
    "\n",
    "Before starting the assignment, make sure that you have downloaded all the data and tests related for the assignment and put them in the appropriate locations. If you run the next cell, we will set this all up automatically for you in a dataset called public, which will contain both the data and tests you use.\n",
    "\n",
    "**Warning**: Throughout the assignment, you will be asked to implement certain algorithms and find optimal values. In the solution you submit, do not simply call a library function which performs the entire algorithm for you, this is forbidden, as it would obviously defeat the purpose. For example, if you were asked to implement the linear regression, do not simply call an outside package for help.\n",
    "\n",
    "**When Submitting to GradeScope**: Be sure to\n",
    "1) Submit a `.ipynb` notebook to the `Assignment 4 - Practical` section on Gradescope.\n",
    "2) Submit a `pdf` version of the notebook to the `Assignment 4 - Analysis` entry.\n",
    "\n",
    "**Note**: You can choose to submit responses in either English or French."
   ]
  },
  {
   "cell_type": "code",
   "execution_count": null,
   "metadata": {
    "colab": {
     "base_uri": "https://localhost:8080/"
    },
    "id": "lsP4ASLXLVjG",
    "outputId": "88f496b8-e11c-43ca-c580-1711ceb782c5"
   },
   "outputs": [],
   "source": [
    "!pip install -q otter-grader\n",
    "!git clone https://github.com/chandar-lab/INF8245e-assignments-2023.git public"
   ]
  },
  {
   "cell_type": "markdown",
   "metadata": {
    "id": "02eg8tx8zeDD"
   },
   "source": [
    "In this assignment, we will walk you through the steps of implement a simple neural network with all necessary components. You will attempt to replicate your own version of _PyTorch_ by defining minimalistic clases which ressemble the famous deep learning library.\n",
    "\n",
    "![](https://drive.google.com/uc?export=view&id=1RRxUje8FRJFDcAfIxyA9WBrphgq96Q-X)\n",
    "\n",
    "You will implement commonly used activation functions such as `softmax`, `tanh`, and `relu`, and loss fuction such as `cross entropy`. For each activation layer, you will implement the forward and backward pass by computing the gradient. Finally, you will put everything together in a training loop and train it on the MNIST dataset of hand-written digits.\n",
    "\n"
   ]
  },
  {
   "cell_type": "code",
   "execution_count": null,
   "metadata": {
    "id": "1g-g2XcOy1IK"
   },
   "outputs": [],
   "source": [
    "# DO NOT RE-SEED ANYWHERE OTHERWISE YOUR IMPLEMENTATION MAY FAIL SOME UNIT TESTS\n",
    "import os\n",
    "import numpy as np\n",
    "import matplotlib.pyplot as plt\n",
    "from typing import List, Tuple, Union, Dict, Callable\n",
    "\n",
    "np.random.seed(8245)\n",
    "\n",
    "%matplotlib inline\n",
    "\n",
    "working_dir = './public/a4' # CHANGE THIS TO THE MAIN ASSIGNMENT DIRECTORY"
   ]
  },
  {
   "cell_type": "code",
   "execution_count": null,
   "metadata": {
    "colab": {
     "base_uri": "https://localhost:8080/"
    },
    "id": "tc32wN9erB_H",
    "outputId": "b07fb05c-41b1-41d6-a132-3496053bd051"
   },
   "outputs": [],
   "source": [
    " %cd /content/public/a4"
   ]
  },
  {
   "cell_type": "code",
   "execution_count": null,
   "metadata": {
    "id": "AVDOncNAjlV-"
   },
   "outputs": [],
   "source": [
    "# Initialize Otter\n",
    "import otter\n",
    "\n",
    "os.makedirs(\"tests\", exist_ok=True)\n",
    "\n",
    "grader = otter.Notebook(colab=True, tests_dir='./tests')"
   ]
  },
  {
   "cell_type": "markdown",
   "metadata": {
    "id": "BIwtL9l7M9ty"
   },
   "source": [
    "## **Question 1: Layer Classes (12 points)**\n"
   ]
  },
  {
   "cell_type": "markdown",
   "metadata": {
    "id": "YAxTCzVaBmWZ"
   },
   "source": [
    "The following class `Layer` is a super-class from which subsequent layer, activation, and loss classes will be inherited. Nothing needs to be changed here, but it's good to get familiar with the stucture and the instuctions."
   ]
  },
  {
   "cell_type": "code",
   "execution_count": null,
   "metadata": {
    "id": "tIIXAW9SPQKx"
   },
   "outputs": [],
   "source": [
    "class Layer:\n",
    "    \"\"\"\n",
    "    Base class for all layers.\n",
    "    \"\"\"\n",
    "    def __init__(self):\n",
    "        \"\"\"\n",
    "        Initialize layer parameters (if any) and auxiliary data that is needed for,\n",
    "        usually, variables like input_size, output_size, are initialized here.\n",
    "        \"\"\"\n",
    "\n",
    "    def init_weights(self):\n",
    "        \"\"\"\n",
    "        Initialize the weights of the layer, if applicable.\n",
    "        \"\"\"\n",
    "        pass\n",
    "\n",
    "    def forward(self, input):\n",
    "        \"\"\"\n",
    "        Forward pass of the layer.\n",
    "        Parameter:\n",
    "            input: input data\n",
    "        Returns:\n",
    "            output: output of the layer\n",
    "        \"\"\"\n",
    "        pass\n",
    "\n",
    "    def backward(self, output_grad):\n",
    "        \"\"\"\n",
    "        Backward pass of the layer.\n",
    "        Parameter:\n",
    "            output_grad: gradient of the output of the layer (dy)\n",
    "        Returns:\n",
    "            input_grad: gradient of the input of the layer (dx)\n",
    "        \"\"\"\n",
    "        pass\n",
    "\n",
    "    def update(self, learning_rate):\n",
    "        \"\"\"\n",
    "        Update the layer parameters, if applicable.\n",
    "        Parameter:\n",
    "            learning_rate: learning rate used for updating\n",
    "        \"\"\"\n",
    "        pass"
   ]
  },
  {
   "cell_type": "markdown",
   "metadata": {
    "id": "k7HylSdX7sQ9"
   },
   "source": [
    "### Q1 a) **(10 points)**\n"
   ]
  },
  {
   "cell_type": "markdown",
   "metadata": {
    "id": "Mf1dt897VTcW"
   },
   "source": [
    "Follow the instuctions in the comments, implement a fully-connected layer (`Dense`) capable of working with any generic input and output sizes. It should define its weight and bias matrices inside.\n",
    "\n"
   ]
  },
  {
   "cell_type": "code",
   "execution_count": null,
   "metadata": {
    "id": "nPbuNuCf7k0O",
    "tags": []
   },
   "outputs": [],
   "source": [
    "class Dense(Layer):\n",
    "    \"\"\"\n",
    "    Fully connected layer.\n",
    "    \"\"\"\n",
    "    def __init__(\n",
    "        self,\n",
    "        input_size,\n",
    "        output_size,\n",
    "        weights=None,\n",
    "        bias=None\n",
    "    ):\n",
    "        \"\"\"\n",
    "        Initialize the layer.\n",
    "        Parameters:\n",
    "            input_size (int): input size of the layer\n",
    "            output_size (int): output size of the layer\n",
    "            weights (np.ndarray): weights of the layer\n",
    "            bias (np.ndarray): bias of the layer\n",
    "        \"\"\"\n",
    "        super().__init__()\n",
    "        self.input_size = input_size\n",
    "        self.output_size = output_size\n",
    "        self.init_weights(weights=weights, bias=bias)\n",
    "\n",
    "    def init_weights(self, weights=None, bias=None):\n",
    "        \"\"\"\n",
    "        Initializes the weights of the layer.\n",
    "        If weights and bias are not provided, they are initialized\n",
    "        with a Gaussian N(0, 1) random values and zeros, respectively.\n",
    "        Parameters:\n",
    "            weights (np.ndarray): weights of the layer, shape: (self.input_size, self.output_size)\n",
    "            bias (np.ndarray): bias of the layer, shape: (1, self.output_size)\n",
    "        \"\"\"\n",
    "        ...\n",
    "\n",
    "    def forward(self, x):\n",
    "        \"\"\"\n",
    "        Forward pass of the layer.\n",
    "        Parameters:\n",
    "            x (np.ndarray): input of the layer, shape: (batch_size, self.input_size)\n",
    "        Returns:\n",
    "            output (np.ndarray): output of the layer, shape: (batch_size, self.output_size)\n",
    "        \"\"\"\n",
    "        ...\n",
    "\n",
    "    def backward(self, output_grad):\n",
    "        \"\"\"\n",
    "        Backward pass of the layer.\n",
    "        Parameters:\n",
    "            output_grad (np.ndarray): gradient of the output of the layer (dy), shape: (batch_size, self.output_size)\n",
    "        Returns:\n",
    "            input_grad (np.ndarray): gradient of the input of the layer (dx), shape: (batch_size, self.input_size)\n",
    "        \"\"\"\n",
    "        ...\n",
    "\n",
    "    def update(self, learning_rate):\n",
    "        \"\"\"\n",
    "        Update the layer parameters. Normally, this is done by using the\n",
    "        gradients computed in the backward pass; therefore, backward() must\n",
    "        be called before update().\n",
    "        This function implements SGD (stochastic gradient descent)\n",
    "        Parameter:\n",
    "            learning_rate (float): learning rate used for updating\n",
    "        \"\"\"\n",
    "        # assumes self.backward() function has been called before\n",
    "        assert hasattr(self, 'weights_grad'), \\\n",
    "            'must compute gradient of weights before'\n",
    "        assert hasattr(self, 'bias_grad'), \\\n",
    "            'must compute gradient of bias before'\n",
    "        ..."
   ]
  },
  {
   "cell_type": "code",
   "execution_count": null,
   "metadata": {
    "deletable": false,
    "editable": false
   },
   "outputs": [],
   "source": [
    "grader.check(\"q1.1\")"
   ]
  },
  {
   "cell_type": "markdown",
   "metadata": {
    "id": "j9h44ZdmGfGD"
   },
   "source": [
    "### Q1 b) **(2 points)**\n",
    "\n",
    "- In one or two sentences, what is the purpose of bias variables?\n",
    "- In one or two sentences, what is the purpose of activation functions in neural networks, and why are they important?"
   ]
  },
  {
   "cell_type": "markdown",
   "metadata": {},
   "source": [
    "_Type your answer here, replacing this text._"
   ]
  },
  {
   "cell_type": "markdown",
   "metadata": {
    "deletable": false,
    "editable": false,
    "id": "7MvrhYkj4F_U"
   },
   "source": [
    "<!-- END QUESTION -->\n",
    "\n",
    "## **Question 2: Activation and Loss Layers (20 points)**\n",
    "\n"
   ]
  },
  {
   "cell_type": "markdown",
   "metadata": {
    "id": "Yg-74JudCa0o"
   },
   "source": [
    "### Q2 a) **(15 points)**\n",
    "\n",
    "Implement the forward pass for `softmax`, `tanh`, and `relu` layers. The forward pass fuction receives the input data (usually a vector or a tensor) from the previous layer, and applies the activation function element-wise to the input data to compute the output of the activation layer.  \n",
    "\n",
    "(We will come back to implementing the backward pass later as well.)\n"
   ]
  },
  {
   "cell_type": "code",
   "execution_count": null,
   "metadata": {
    "id": "LlpLVpxm8N6H",
    "tags": []
   },
   "outputs": [],
   "source": [
    "class SoftmaxLayer(Layer):\n",
    "    \"\"\"\n",
    "    Softmax layer.\n",
    "    \"\"\"\n",
    "    def forward(self, x):\n",
    "        \"\"\"\n",
    "        Forward pass of the layer.\n",
    "        The output's sum along the second axis should be 1.\n",
    "        Parameter:\n",
    "            x (np.ndarray): input of the layer, shape: (batch_size, input_size)\n",
    "        Returns:\n",
    "            output (np.ndarray): output of the layer, shape: (batch_size, input_size)\n",
    "        \"\"\"\n",
    "        ...\n",
    "\n",
    "\n",
    "    def backward(self, output_grad):\n",
    "        \"\"\"\n",
    "        Backward pass of the layer.\n",
    "        Parameter:\n",
    "            output_grad (np.ndarray): gradient of the output of the layer (dy), shape: (batch_size, input_size)\n",
    "        Returns:\n",
    "            input_grad (np.ndarray): gradient of the input of the layer (dx), shape: (batch_size, input_size)\n",
    "        \"\"\"\n",
    "        ...\n",
    "\n",
    "\n",
    "class TanhLayer(Layer):\n",
    "    \"\"\"\n",
    "    Tanh layer.\n",
    "    \"\"\"\n",
    "    def forward(self, x):\n",
    "        \"\"\"\n",
    "        Forward pass of the layer.\n",
    "        Parameter:\n",
    "            x (np.ndarray): input of the layer, shape: (batch_size, input_size)\n",
    "        Returns:\n",
    "            output (np.ndarray): output of the layer, shape: (batch_size, input_size)\n",
    "        \"\"\"\n",
    "        ...\n",
    "\n",
    "    def backward(self, output_grad):\n",
    "        \"\"\"\n",
    "        Backward pass of the layer.\n",
    "        Parameter:\n",
    "            output_grad (np.ndarray): gradient of the output of the layer (dy), shape: (batch_size, input_size)\n",
    "        Returns:\n",
    "            input_grad (np.ndarray): gradient of the input of the layer (dx), shape: (batch_size, input_size)\n",
    "        \"\"\"\n",
    "        ...\n",
    "\n",
    "\n",
    "class ReLULayer(Layer):\n",
    "    \"\"\"\n",
    "    ReLU layer.\n",
    "    \"\"\"\n",
    "    def forward(self, x):\n",
    "        \"\"\"\n",
    "        Forward pass of the layer.\n",
    "        Parameter:\n",
    "            x (np.ndarray): input of the layer, shape: (batch_size, input_size)\n",
    "        Returns:\n",
    "            output (np.ndarray): output of the layer, shape: (batch_size, input_size)\n",
    "        \"\"\"\n",
    "        ...\n",
    "\n",
    "    def backward(self, output_grad):\n",
    "        \"\"\"\n",
    "        Backward pass of the layer.\n",
    "        Parameter:\n",
    "            output_grad (np.ndarray): gradient of the output of the layer (dy), shape: (batch_size, input_size)\n",
    "        Returns:\n",
    "            input_grad (np.ndarray): gradient of the input of the layer (dx), shape: (batch_size, input_size)\n",
    "        \"\"\"\n",
    "        ..."
   ]
  },
  {
   "cell_type": "code",
   "execution_count": null,
   "metadata": {
    "deletable": false,
    "editable": false
   },
   "outputs": [],
   "source": [
    "grader.check(\"q2.1\")"
   ]
  },
  {
   "cell_type": "markdown",
   "metadata": {
    "id": "ZN7gS9Bq4P-R"
   },
   "source": [
    "### Q2 b) **(5 points)**\n",
    "Now, implement a cross-entropy loss layer.\n",
    "\n",
    "The forward pass again receives the predicted class probabilities (output from a previous activation layer) and the ground truth labels (target). It computes the cross-entropy loss using the predicted probabilities and the ground truth labels. The loss function measures the dissimilarity between the predicted probabilities and the actual labels.\n",
    "\n",
    "In the backward pass, you need to compute the gradient of the loss with respect to the predicted probabilities. This gradient will be used to update the weights and biases of the preceding layers during backpropagation.\n",
    "\n",
    "The equation for the cross-entropy loss is given by:\n",
    "$$\n",
    "\\mathcal{L} = -\\sum_{i=1}^{N} y_i \\log(p_i)\n",
    "$$\n",
    "where $y_i$ is the ground truth label, $p_i$ is the predicted probability for class $i$, and $N$ is the number of classes.\n",
    "\n",
    "Note that here we are NOT averaging the loss over the batch, so the loss is simply the sum of the losses for each sample in the batch; therefore, for the purposes of this assignment, dividing by the batch size might cause failures while testing your code. In deep learning libraries, such as PyTorch, choosing whether to average the loss over the batch or not is a parameter that can be set by the user; yet this assignment does not require you to implement this functionality.\n",
    "\n",
    "The `.forward()` function receives two parameters:\n",
    "- `prediction`: the predicted class **probabilities** (output from a previous activation layer), of shape `(batch_size, num_classes)`. Therefore, each row should sum to 1.\n",
    "- `target`: the ground truth labels, of shape `(batch_size, )`. Each element is an integer between 0 and `num_classes - 1`.\n",
    "\n",
    "Finally, to handle numerical stability, it is a good practice to add a small value (e.g. $10^{-10}$) to the predicted probabilities before taking the logarithm.\n"
   ]
  },
  {
   "cell_type": "code",
   "execution_count": null,
   "metadata": {
    "id": "co9R9f1lQ6EC",
    "tags": []
   },
   "outputs": [],
   "source": [
    "class CrossEntropyLossLayer(Layer):\n",
    "    \"\"\"\n",
    "    Cross entropy loss layer.\n",
    "    \"\"\"\n",
    "\n",
    "    def forward(self, prediction, target):\n",
    "        \"\"\"\n",
    "        Forward pass of the layer.\n",
    "        Note that prediction input is assumed to be a probability distribution (e.g., softmax output).\n",
    "        Parameters:\n",
    "            prediction (np.ndarray): prediction of the model, shape: (batch_size, num_classes)\n",
    "            target (np.ndarray): target, shape: (batch_size,)\n",
    "        Returns:\n",
    "            output (float): cross entropy loss, averaged over the batch\n",
    "        \"\"\"\n",
    "        ...\n",
    "\n",
    "    def backward(self, output_grad):\n",
    "        \"\"\"\n",
    "        Backward pass of the layer.\n",
    "        Parameter:\n",
    "            output_grad (float): gradient of the output of the layer (dy)\n",
    "        Returns:\n",
    "            input_grad (np.ndarray): gradient of the input of the layer (dx), shape: (batch_size, num_classes)\n",
    "        \"\"\"\n",
    "        ..."
   ]
  },
  {
   "cell_type": "code",
   "execution_count": null,
   "metadata": {
    "deletable": false,
    "editable": false
   },
   "outputs": [],
   "source": [
    "grader.check(\"q2.2\")"
   ]
  },
  {
   "cell_type": "markdown",
   "metadata": {
    "id": "mdc_6FiR6Q_Y"
   },
   "source": [
    "## **Question 3: Putting it all together: MLP (5 points)**\n",
    "\n",
    "Now, we will put everything together and implement an MLP (multi-layer perceptron) class which is capable enough of stacking multiple layers."
   ]
  },
  {
   "cell_type": "markdown",
   "metadata": {
    "id": "3e_rkjwrC14U"
   },
   "source": [
    "### Q3 a) **(5 points)**\n",
    "\n",
    "Implement a multi-layer perceptron class (`MLP`) capable of stacking multiple layers."
   ]
  },
  {
   "cell_type": "code",
   "execution_count": null,
   "metadata": {
    "id": "gIujgVk4iY9z",
    "tags": []
   },
   "outputs": [],
   "source": [
    "class MLP(Layer):\n",
    "    \"\"\"\n",
    "    Multi-layer perceptron.\n",
    "    \"\"\"\n",
    "    def __init__(self, layers):\n",
    "        \"\"\"\n",
    "        Initialize the MLP. The passed list of layers usually\n",
    "        follows the order: [Dense, Activation, Dense, Activation, ...]\n",
    "        Parameters:\n",
    "            layers (list): list of layers of the MLP\n",
    "        \"\"\"\n",
    "        super().__init__()\n",
    "        self.layers = layers\n",
    "\n",
    "    def forward(self, input):\n",
    "        \"\"\"\n",
    "        Forward pass of the MLP.\n",
    "        Go over each layers sequentially and call their .forward() function.\n",
    "        Don't forget to store every intermediate results in order to use them\n",
    "        in the backward pass.\n",
    "        Parameter:\n",
    "            input (np.ndarray): input of the MLP, shape: (batch_size, input_size)\n",
    "                                (NOTE: input_size is the size of the input of the first layer)\n",
    "        Returns:\n",
    "            output (np.ndarray): output of the MLP, shape: (batch_size, output_size)\n",
    "                                 (NOTE: output_size is the size of the output of the last layer)\n",
    "        \"\"\"\n",
    "        ...\n",
    "\n",
    "    def backward(self, output_grad):\n",
    "        \"\"\"\n",
    "        Backward pass of the MLP.\n",
    "        Go over each layers in reverse order and call their .backward() function.\n",
    "        Make sure to pass the correct gradient to each layer.\n",
    "        Parameter:\n",
    "            output_grad (np.ndarray): gradient of the output of the MLP (dy)\n",
    "        Returns:\n",
    "            input_grad (np.ndarray): gradient of the input of the MLP (dx)\n",
    "        \"\"\"\n",
    "        ...\n",
    "\n",
    "    def update(self, learning_rate):\n",
    "        \"\"\"\n",
    "        Update the MLP parameters. Normally, this is done by using the\n",
    "        gradients computed in the backward pass; therefore, .backward() must\n",
    "        be called before update().\n",
    "        Parameter:\n",
    "            learning_rate (float): learning rate used for updating\n",
    "        \"\"\"\n",
    "        # assumes self.backward() function has been called before\n",
    "        assert hasattr(self, 'layer_grads'), \\\n",
    "            'must compute gradient of weights beforehand'\n",
    "        ..."
   ]
  },
  {
   "cell_type": "code",
   "execution_count": null,
   "metadata": {
    "deletable": false,
    "editable": false
   },
   "outputs": [],
   "source": [
    "grader.check(\"q3.1\")"
   ]
  },
  {
   "cell_type": "markdown",
   "metadata": {
    "id": "V9m3vNmiO7XE"
   },
   "source": [
    "## **Question 4: Training loop (10 points)**\n",
    "\n",
    "Ta-ta! We have now build a neural network from scratch, and it is ready to be trained. We will train the neural network on the MNIST dataset consists of hand-written digits. You don't have to change the implementation for this part."
   ]
  },
  {
   "cell_type": "markdown",
   "metadata": {
    "id": "3eLb6XIGEosh"
   },
   "source": [
    "### Q4 a) **(10 points)**\n",
    "\n",
    "We now provide a training loop for you to observe your implementation in action. You should see this part deliver the expected behavior if you have implemented everything correctly. The provided code behaves as follows:\n",
    "\n",
    "1. Loads the MNIST dataset.\n",
    "2. Visualizes some samples from the dataset.\n",
    "3. $\\to$ Initializes the neural network.\n",
    "4. $\\to$ Trains the neural network for 20 epochs.\n",
    "5. $\\to$ Evaluates the neural network on the test set.\n",
    "6. $\\to$ Plots the training loss and accuracy.\n",
    "\n",
    "Your implementation impacts the previous points preceded by a $\\to$. At the end, you should see a plot of the training loss and accuracy. The loss should decrease and the accuracy should increase as the training progresses.\n",
    "\n",
    "**Please DO NOT modify the following training scripts.**\n",
    "\n",
    "Even though the curious programmer would want to play with the hyperparameters, we ask you to keep them as they are for the sake of the grading process."
   ]
  },
  {
   "cell_type": "markdown",
   "metadata": {
    "deletable": false,
    "editable": false
   },
   "source": [
    "<!-- BEGIN QUESTION -->\n",
    "\n"
   ]
  },
  {
   "cell_type": "code",
   "execution_count": null,
   "metadata": {
    "deletable": false,
    "editable": false,
    "id": "J1PkJFnma8oA"
   },
   "outputs": [],
   "source": [
    "import matplotlib.pyplot as plt\n",
    "\n",
    "from sklearn.preprocessing import OneHotEncoder\n",
    "from sklearn.datasets import load_digits\n",
    "from sklearn.model_selection import train_test_split\n",
    "from tqdm.auto import tqdm"
   ]
  },
  {
   "cell_type": "code",
   "execution_count": null,
   "metadata": {
    "colab": {
     "base_uri": "https://localhost:8080/",
     "height": 219
    },
    "deletable": false,
    "editable": false,
    "id": "s1syCiexbHf5",
    "outputId": "dfd03a6c-fcdd-4daf-df9e-ce90e5fac860"
   },
   "outputs": [],
   "source": [
    "# set experiment's random seed\n",
    "generator = np.random.default_rng(8249)\n",
    "\n",
    "# Load the minimalistic MNIST dataset using scikit-learn\n",
    "mnist = load_digits()\n",
    "data, labels = mnist.data, mnist.target\n",
    "\n",
    "# Split the dataset into training and testing sets\n",
    "train_images, test_images, train_labels, test_labels = train_test_split(\n",
    "    data,\n",
    "    labels,\n",
    "    test_size=0.2,\n",
    "    random_state=8249\n",
    ")\n",
    "\n",
    "# We visualize some digits\n",
    "num_digits_to_visualize = 5\n",
    "\n",
    "# Create subplots to display the digits\n",
    "fig, axes = plt.subplots(1, num_digits_to_visualize, figsize=(12, 3))\n",
    "\n",
    "for i, img_idx in enumerate(generator.integers(\n",
    "    low=0,\n",
    "    high=train_images.shape[0],\n",
    "    size=num_digits_to_visualize\n",
    ")):\n",
    "    # Reshape the flattened image data back to 28x28\n",
    "    digit_image = train_images[img_idx].reshape(8, 8)\n",
    "\n",
    "    # Display the digit image\n",
    "    axes[i].imshow(digit_image, cmap='gray')\n",
    "    axes[i].set_title(f\"Label: {labels[img_idx]}\")\n",
    "    axes[i].axis('off')\n",
    "\n",
    "plt.show()"
   ]
  },
  {
   "cell_type": "code",
   "execution_count": null,
   "metadata": {
    "deletable": false,
    "editable": false,
    "id": "Xq0biKsbbK9K"
   },
   "outputs": [],
   "source": [
    "# Define a simple MLP model\n",
    "input_size = 64\n",
    "hidden_size = 128\n",
    "output_size = 10\n",
    "\n",
    "# initialize weights using Xavier initialization\n",
    "W_1 = generator.normal(0, 1, (input_size, hidden_size)) * np.sqrt(1 / input_size)\n",
    "b_1 = np.zeros((1, hidden_size))\n",
    "W_2 = generator.normal(0, 1, (hidden_size, output_size)) * np.sqrt(1 / hidden_size)\n",
    "b_2 = np.zeros((1, output_size))\n",
    "\n",
    "mlp = MLP([\n",
    "    Dense(input_size, hidden_size, weights=W_1, bias=b_1),\n",
    "    TanhLayer(),\n",
    "    Dense(hidden_size, output_size, weights=W_2, bias=b_2),\n",
    "    SoftmaxLayer()\n",
    "])\n",
    "\n",
    "# Define a cross-entropy loss layer\n",
    "cross_entropy_layer = CrossEntropyLossLayer()"
   ]
  },
  {
   "cell_type": "code",
   "execution_count": null,
   "metadata": {
    "colab": {
     "base_uri": "https://localhost:8080/",
     "height": 84,
     "referenced_widgets": [
      "d3eec43134f941d3a0c83494e96a9600",
      "408ea7e94f3c430899027846f966af9a",
      "a15ec80ca63c4ce3a38cdc96002353a6",
      "461e4e9c9d5d4dcdab6a2b6fc30b2cab",
      "1aad5855846e495ab03646152d1d7f1f",
      "3beebfe27d92428187032de7c41c98ef",
      "5766bd57bfbb4cf2ba6a5d7d83e60bdb",
      "7a9c3513f5cf469393791e30be76eb2b",
      "edf44791c01341fe93ba43a1b2d63ae4",
      "dc0d07bbeac64496909177e89d3feff3",
      "baf71aa9fb3f4f6aaeb9755caeb54f05"
     ]
    },
    "id": "LSVhgDTDbQmP",
    "outputId": "32a60c07-add7-456b-e0f9-a77bcde0ea35",
    "tags": []
   },
   "outputs": [],
   "source": [
    "# Training parameters\n",
    "learning_rate = 0.1\n",
    "epochs = 20\n",
    "batch_size = 128\n",
    "\n",
    "# Training loop\n",
    "epoch_bar = tqdm(range(epochs), desc='Epoch')\n",
    "train_accuracies = []\n",
    "train_losses = []\n",
    "for epoch in epoch_bar:\n",
    "    step_accuracies = []\n",
    "    step_losses = []\n",
    "    for step, i in enumerate(range(0, len(train_images), batch_size)):\n",
    "        # Prepare the batch\n",
    "        batch_images = train_images[i:i + batch_size]\n",
    "        batch_labels = train_labels[i:i + batch_size]\n",
    "\n",
    "        # Forward pass\n",
    "        output = mlp.forward(batch_images)\n",
    "        loss = cross_entropy_layer.forward(output, batch_labels)\n",
    "\n",
    "        # Backward pass\n",
    "        loss_grad = cross_entropy_layer.backward(loss)\n",
    "        mlp.backward(loss_grad)\n",
    "        mlp.update(learning_rate)\n",
    "\n",
    "        # train accuracy\n",
    "        total = len(batch_images)\n",
    "        predictions = np.argmax(output, axis=1)\n",
    "        correct = np.sum(predictions == batch_labels)\n",
    "        accuracy = correct / total\n",
    "        step_accuracies.append(accuracy)\n",
    "        step_losses.append(loss)\n",
    "\n",
    "    train_accuracies.append(np.mean(step_accuracies))\n",
    "    train_losses.append(np.mean(step_losses))\n",
    "    epoch_bar.set_postfix({\n",
    "        'train loss': train_losses[-1],\n",
    "        'train accuracy': train_accuracies[-1]\n",
    "    })\n",
    "\n",
    "print(\"Training complete.\")\n",
    "\n",
    "# Evaluate the model at the end of training\n",
    "total = len(test_images)\n",
    "for i in range(0, total, batch_size):\n",
    "    batch_images = test_images[i:i + batch_size]\n",
    "    batch_labels = test_labels[i:i + batch_size].astype(int)\n",
    "\n",
    "    output = mlp.forward(batch_images)\n",
    "    predictions = np.argmax(output, axis=1)\n",
    "    correct += np.sum(predictions == batch_labels)\n",
    "\n",
    "test_accuracy = correct / total\n",
    "print(f\"Test accuracy: {test_accuracy:.2%}\")"
   ]
  },
  {
   "cell_type": "code",
   "execution_count": null,
   "metadata": {
    "colab": {
     "base_uri": "https://localhost:8080/",
     "height": 407
    },
    "id": "25YyuDfA53aJ",
    "outputId": "06042a6a-6763-4535-b548-e73b2a8595a3",
    "tags": []
   },
   "outputs": [],
   "source": [
    "# plot training curves\n",
    "fig, axes = plt.subplots(1, 2, figsize=(12, 4))\n",
    "\n",
    "axes[0].plot(\n",
    "    np.arange(1, epochs+1),\n",
    "    train_losses,\n",
    "    color='blue'\n",
    ")\n",
    "axes[0].set_title('Training loss')\n",
    "axes[0].set_xlabel('Epoch')\n",
    "axes[0].set_ylabel('Loss')\n",
    "axes[0].grid()\n",
    "\n",
    "axes[1].plot(\n",
    "    np.arange(1, epochs+1),\n",
    "    train_accuracies,\n",
    "    color='red'\n",
    ")\n",
    "axes[1].set_title('Training accuracy')\n",
    "axes[1].set_xlabel('Epoch')\n",
    "axes[1].set_ylabel('Accuracy')\n",
    "axes[1].grid()\n",
    "\n",
    "axes[0].set_xticks(range(0, epochs+1, 2))\n",
    "axes[1].set_xticks(range(0, epochs+1, 2))\n",
    "fig.tight_layout()\n",
    "\n",
    "plt.show()"
   ]
  },
  {
   "cell_type": "markdown",
   "metadata": {
    "deletable": false,
    "editable": false
   },
   "source": [
    "<!-- END QUESTION -->\n",
    "\n"
   ]
  }
 ],
 "metadata": {
  "colab": {
   "provenance": []
  },
  "kernelspec": {
   "display_name": "Python 3 (ipykernel)",
   "language": "python",
   "name": "python3"
  },
  "language_info": {
   "codemirror_mode": {
    "name": "ipython",
    "version": 3
   },
   "file_extension": ".py",
   "mimetype": "text/x-python",
   "name": "python",
   "nbconvert_exporter": "python",
   "pygments_lexer": "ipython3",
   "version": "3.11.5"
  },
  "widgets": {
   "application/vnd.jupyter.widget-state+json": {
    "1aad5855846e495ab03646152d1d7f1f": {
     "model_module": "@jupyter-widgets/base",
     "model_module_version": "1.2.0",
     "model_name": "LayoutModel",
     "state": {
      "_model_module": "@jupyter-widgets/base",
      "_model_module_version": "1.2.0",
      "_model_name": "LayoutModel",
      "_view_count": null,
      "_view_module": "@jupyter-widgets/base",
      "_view_module_version": "1.2.0",
      "_view_name": "LayoutView",
      "align_content": null,
      "align_items": null,
      "align_self": null,
      "border": null,
      "bottom": null,
      "display": null,
      "flex": null,
      "flex_flow": null,
      "grid_area": null,
      "grid_auto_columns": null,
      "grid_auto_flow": null,
      "grid_auto_rows": null,
      "grid_column": null,
      "grid_gap": null,
      "grid_row": null,
      "grid_template_areas": null,
      "grid_template_columns": null,
      "grid_template_rows": null,
      "height": null,
      "justify_content": null,
      "justify_items": null,
      "left": null,
      "margin": null,
      "max_height": null,
      "max_width": null,
      "min_height": null,
      "min_width": null,
      "object_fit": null,
      "object_position": null,
      "order": null,
      "overflow": null,
      "overflow_x": null,
      "overflow_y": null,
      "padding": null,
      "right": null,
      "top": null,
      "visibility": null,
      "width": null
     }
    },
    "3beebfe27d92428187032de7c41c98ef": {
     "model_module": "@jupyter-widgets/base",
     "model_module_version": "1.2.0",
     "model_name": "LayoutModel",
     "state": {
      "_model_module": "@jupyter-widgets/base",
      "_model_module_version": "1.2.0",
      "_model_name": "LayoutModel",
      "_view_count": null,
      "_view_module": "@jupyter-widgets/base",
      "_view_module_version": "1.2.0",
      "_view_name": "LayoutView",
      "align_content": null,
      "align_items": null,
      "align_self": null,
      "border": null,
      "bottom": null,
      "display": null,
      "flex": null,
      "flex_flow": null,
      "grid_area": null,
      "grid_auto_columns": null,
      "grid_auto_flow": null,
      "grid_auto_rows": null,
      "grid_column": null,
      "grid_gap": null,
      "grid_row": null,
      "grid_template_areas": null,
      "grid_template_columns": null,
      "grid_template_rows": null,
      "height": null,
      "justify_content": null,
      "justify_items": null,
      "left": null,
      "margin": null,
      "max_height": null,
      "max_width": null,
      "min_height": null,
      "min_width": null,
      "object_fit": null,
      "object_position": null,
      "order": null,
      "overflow": null,
      "overflow_x": null,
      "overflow_y": null,
      "padding": null,
      "right": null,
      "top": null,
      "visibility": null,
      "width": null
     }
    },
    "408ea7e94f3c430899027846f966af9a": {
     "model_module": "@jupyter-widgets/controls",
     "model_module_version": "1.5.0",
     "model_name": "HTMLModel",
     "state": {
      "_dom_classes": [],
      "_model_module": "@jupyter-widgets/controls",
      "_model_module_version": "1.5.0",
      "_model_name": "HTMLModel",
      "_view_count": null,
      "_view_module": "@jupyter-widgets/controls",
      "_view_module_version": "1.5.0",
      "_view_name": "HTMLView",
      "description": "",
      "description_tooltip": null,
      "layout": "IPY_MODEL_3beebfe27d92428187032de7c41c98ef",
      "placeholder": "​",
      "style": "IPY_MODEL_5766bd57bfbb4cf2ba6a5d7d83e60bdb",
      "value": "Epoch: 100%"
     }
    },
    "461e4e9c9d5d4dcdab6a2b6fc30b2cab": {
     "model_module": "@jupyter-widgets/controls",
     "model_module_version": "1.5.0",
     "model_name": "HTMLModel",
     "state": {
      "_dom_classes": [],
      "_model_module": "@jupyter-widgets/controls",
      "_model_module_version": "1.5.0",
      "_model_name": "HTMLModel",
      "_view_count": null,
      "_view_module": "@jupyter-widgets/controls",
      "_view_module_version": "1.5.0",
      "_view_name": "HTMLView",
      "description": "",
      "description_tooltip": null,
      "layout": "IPY_MODEL_dc0d07bbeac64496909177e89d3feff3",
      "placeholder": "​",
      "style": "IPY_MODEL_baf71aa9fb3f4f6aaeb9755caeb54f05",
      "value": " 20/20 [00:03&lt;00:00,  9.54it/s, train loss=0.574, train accuracy=0.861]"
     }
    },
    "5766bd57bfbb4cf2ba6a5d7d83e60bdb": {
     "model_module": "@jupyter-widgets/controls",
     "model_module_version": "1.5.0",
     "model_name": "DescriptionStyleModel",
     "state": {
      "_model_module": "@jupyter-widgets/controls",
      "_model_module_version": "1.5.0",
      "_model_name": "DescriptionStyleModel",
      "_view_count": null,
      "_view_module": "@jupyter-widgets/base",
      "_view_module_version": "1.2.0",
      "_view_name": "StyleView",
      "description_width": ""
     }
    },
    "7a9c3513f5cf469393791e30be76eb2b": {
     "model_module": "@jupyter-widgets/base",
     "model_module_version": "1.2.0",
     "model_name": "LayoutModel",
     "state": {
      "_model_module": "@jupyter-widgets/base",
      "_model_module_version": "1.2.0",
      "_model_name": "LayoutModel",
      "_view_count": null,
      "_view_module": "@jupyter-widgets/base",
      "_view_module_version": "1.2.0",
      "_view_name": "LayoutView",
      "align_content": null,
      "align_items": null,
      "align_self": null,
      "border": null,
      "bottom": null,
      "display": null,
      "flex": null,
      "flex_flow": null,
      "grid_area": null,
      "grid_auto_columns": null,
      "grid_auto_flow": null,
      "grid_auto_rows": null,
      "grid_column": null,
      "grid_gap": null,
      "grid_row": null,
      "grid_template_areas": null,
      "grid_template_columns": null,
      "grid_template_rows": null,
      "height": null,
      "justify_content": null,
      "justify_items": null,
      "left": null,
      "margin": null,
      "max_height": null,
      "max_width": null,
      "min_height": null,
      "min_width": null,
      "object_fit": null,
      "object_position": null,
      "order": null,
      "overflow": null,
      "overflow_x": null,
      "overflow_y": null,
      "padding": null,
      "right": null,
      "top": null,
      "visibility": null,
      "width": null
     }
    },
    "a15ec80ca63c4ce3a38cdc96002353a6": {
     "model_module": "@jupyter-widgets/controls",
     "model_module_version": "1.5.0",
     "model_name": "FloatProgressModel",
     "state": {
      "_dom_classes": [],
      "_model_module": "@jupyter-widgets/controls",
      "_model_module_version": "1.5.0",
      "_model_name": "FloatProgressModel",
      "_view_count": null,
      "_view_module": "@jupyter-widgets/controls",
      "_view_module_version": "1.5.0",
      "_view_name": "ProgressView",
      "bar_style": "success",
      "description": "",
      "description_tooltip": null,
      "layout": "IPY_MODEL_7a9c3513f5cf469393791e30be76eb2b",
      "max": 20,
      "min": 0,
      "orientation": "horizontal",
      "style": "IPY_MODEL_edf44791c01341fe93ba43a1b2d63ae4",
      "value": 20
     }
    },
    "baf71aa9fb3f4f6aaeb9755caeb54f05": {
     "model_module": "@jupyter-widgets/controls",
     "model_module_version": "1.5.0",
     "model_name": "DescriptionStyleModel",
     "state": {
      "_model_module": "@jupyter-widgets/controls",
      "_model_module_version": "1.5.0",
      "_model_name": "DescriptionStyleModel",
      "_view_count": null,
      "_view_module": "@jupyter-widgets/base",
      "_view_module_version": "1.2.0",
      "_view_name": "StyleView",
      "description_width": ""
     }
    },
    "d3eec43134f941d3a0c83494e96a9600": {
     "model_module": "@jupyter-widgets/controls",
     "model_module_version": "1.5.0",
     "model_name": "HBoxModel",
     "state": {
      "_dom_classes": [],
      "_model_module": "@jupyter-widgets/controls",
      "_model_module_version": "1.5.0",
      "_model_name": "HBoxModel",
      "_view_count": null,
      "_view_module": "@jupyter-widgets/controls",
      "_view_module_version": "1.5.0",
      "_view_name": "HBoxView",
      "box_style": "",
      "children": [
       "IPY_MODEL_408ea7e94f3c430899027846f966af9a",
       "IPY_MODEL_a15ec80ca63c4ce3a38cdc96002353a6",
       "IPY_MODEL_461e4e9c9d5d4dcdab6a2b6fc30b2cab"
      ],
      "layout": "IPY_MODEL_1aad5855846e495ab03646152d1d7f1f"
     }
    },
    "dc0d07bbeac64496909177e89d3feff3": {
     "model_module": "@jupyter-widgets/base",
     "model_module_version": "1.2.0",
     "model_name": "LayoutModel",
     "state": {
      "_model_module": "@jupyter-widgets/base",
      "_model_module_version": "1.2.0",
      "_model_name": "LayoutModel",
      "_view_count": null,
      "_view_module": "@jupyter-widgets/base",
      "_view_module_version": "1.2.0",
      "_view_name": "LayoutView",
      "align_content": null,
      "align_items": null,
      "align_self": null,
      "border": null,
      "bottom": null,
      "display": null,
      "flex": null,
      "flex_flow": null,
      "grid_area": null,
      "grid_auto_columns": null,
      "grid_auto_flow": null,
      "grid_auto_rows": null,
      "grid_column": null,
      "grid_gap": null,
      "grid_row": null,
      "grid_template_areas": null,
      "grid_template_columns": null,
      "grid_template_rows": null,
      "height": null,
      "justify_content": null,
      "justify_items": null,
      "left": null,
      "margin": null,
      "max_height": null,
      "max_width": null,
      "min_height": null,
      "min_width": null,
      "object_fit": null,
      "object_position": null,
      "order": null,
      "overflow": null,
      "overflow_x": null,
      "overflow_y": null,
      "padding": null,
      "right": null,
      "top": null,
      "visibility": null,
      "width": null
     }
    },
    "edf44791c01341fe93ba43a1b2d63ae4": {
     "model_module": "@jupyter-widgets/controls",
     "model_module_version": "1.5.0",
     "model_name": "ProgressStyleModel",
     "state": {
      "_model_module": "@jupyter-widgets/controls",
      "_model_module_version": "1.5.0",
      "_model_name": "ProgressStyleModel",
      "_view_count": null,
      "_view_module": "@jupyter-widgets/base",
      "_view_module_version": "1.2.0",
      "_view_name": "StyleView",
      "bar_color": null,
      "description_width": ""
     }
    }
   }
  }
 },
 "nbformat": 4,
 "nbformat_minor": 4
}
